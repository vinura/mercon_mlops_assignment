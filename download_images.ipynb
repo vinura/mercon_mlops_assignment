{
  "cells": [
    {
      "cell_type": "code",
      "execution_count": 1,
      "metadata": {
        "id": "SasVVD0EoLNu",
        "outputId": "d87abbd2-b09c-4f61-cf99-4655f71ec673",
        "colab": {
          "base_uri": "https://localhost:8080/"
        }
      },
      "outputs": [
        {
          "output_type": "stream",
          "name": "stdout",
          "text": [
            "\u001b[2K     \u001b[90m━━━━━━━━━━━━━━━━━━━━━━━━━━━━━━━━━━━━━━━━\u001b[0m \u001b[32m75.0/75.0 kB\u001b[0m \u001b[31m3.8 MB/s\u001b[0m eta \u001b[36m0:00:00\u001b[0m\n",
            "\u001b[2K     \u001b[90m━━━━━━━━━━━━━━━━━━━━━━━━━━━━━━━━━━━━━━━━\u001b[0m \u001b[32m76.9/76.9 kB\u001b[0m \u001b[31m7.6 MB/s\u001b[0m eta \u001b[36m0:00:00\u001b[0m\n",
            "\u001b[2K     \u001b[90m━━━━━━━━━━━━━━━━━━━━━━━━━━━━━━━━━━━━━━━━\u001b[0m \u001b[32m3.0/3.0 MB\u001b[0m \u001b[31m41.5 MB/s\u001b[0m eta \u001b[36m0:00:00\u001b[0m\n",
            "\u001b[2K     \u001b[90m━━━━━━━━━━━━━━━━━━━━━━━━━━━━━━━━━━━━━━━━\u001b[0m \u001b[32m57.5/57.5 kB\u001b[0m \u001b[31m6.5 MB/s\u001b[0m eta \u001b[36m0:00:00\u001b[0m\n",
            "\u001b[2K     \u001b[90m━━━━━━━━━━━━━━━━━━━━━━━━━━━━━━━━━━━━━━━━\u001b[0m \u001b[32m58.3/58.3 kB\u001b[0m \u001b[31m7.7 MB/s\u001b[0m eta \u001b[36m0:00:00\u001b[0m\n",
            "\u001b[?25h"
          ]
        }
      ],
      "source": [
        "!pip install torch -q duckduckgo_search"
      ]
    },
    {
      "cell_type": "code",
      "execution_count": 6,
      "metadata": {
        "id": "dYW_u_1RoLNy"
      },
      "outputs": [],
      "source": [
        "from duckduckgo_search import DDGS\n"
      ]
    },
    {
      "cell_type": "code",
      "source": [
        "search_term = \"laptop\""
      ],
      "metadata": {
        "id": "ll-95CSCoi5N"
      },
      "execution_count": 16,
      "outputs": []
    },
    {
      "cell_type": "code",
      "execution_count": 17,
      "metadata": {
        "id": "SzS0aTo3oLNy"
      },
      "outputs": [],
      "source": [
        "# Function to get image urls from duck duck go search engine\n",
        "def get_images(name, num=100):\n",
        "  \"\"\"Function to get image urls from duck duck go search engine\"\"\"\n",
        "  images = []\n",
        "  with DDGS() as ddgs:\n",
        "      keywords = name\n",
        "      ddgs_images_gen = ddgs.images(\n",
        "        keywords,\n",
        "        region=\"wt-wt\",\n",
        "        safesearch=\"off\",\n",
        "        size=\"Medium\",\n",
        "        type_image=\"photo\",\n",
        "        layout=None,\n",
        "        license_image=\"any\",\n",
        "        max_results=num,\n",
        "      )\n",
        "      for r in ddgs_images_gen:\n",
        "          images.append(r['image'])\n",
        "\n",
        "  return images\n"
      ]
    },
    {
      "cell_type": "code",
      "execution_count": 18,
      "metadata": {
        "id": "q3QADX5VoLNz"
      },
      "outputs": [],
      "source": [
        "# downloading 200 dog imges\n",
        "imgs_gen = get_images(search_term, 200)\n"
      ]
    },
    {
      "cell_type": "code",
      "execution_count": 19,
      "metadata": {
        "id": "6buEkwyooLN0"
      },
      "outputs": [],
      "source": [
        "import json\n",
        "with open(\"{}\".format(output), \"w\") as fp:\n",
        "  json.dump(imgs_gen, fp)"
      ]
    },
    {
      "cell_type": "code",
      "execution_count": 20,
      "metadata": {
        "id": "gGW3y2rUoLN0"
      },
      "outputs": [],
      "source": [
        "with open(\"{}\".format(output), \"r\") as fp:\n",
        "  data = json.load(fp)"
      ]
    },
    {
      "cell_type": "code",
      "source": [
        "data"
      ],
      "metadata": {
        "id": "tgtvbkZYo2qy",
        "outputId": "01d1f42f-af49-4049-e263-1ba3086f344a",
        "colab": {
          "base_uri": "https://localhost:8080/"
        }
      },
      "execution_count": 21,
      "outputs": [
        {
          "output_type": "execute_result",
          "data": {
            "text/plain": [
              "['https://www.publicdomainpictures.net/pictures/10000/velka/1-1216221458n7mg.jpg',\n",
              " 'http://gadgetsin.com/uploads/2019/08/chuwi_lapbook_pro_fanless_laptop_1.jpg',\n",
              " 'https://blog.hboeck.de/uploads/x1carbon.serendipityThumb.jpg',\n",
              " 'https://2.bp.blogspot.com/-ajNXavl-5TU/Vtu4hOa1f3I/AAAAAAAAMi0/4nDjOSrmoWY/s400/laptop.jpg',\n",
              " 'http://ecx.images-amazon.com/images/I/51hWt8SAQNL._SL500_AA300_.jpg',\n",
              " 'https://live.staticflickr.com/7176/13696908303_bd296a9f9c_b.jpg',\n",
              " 'https://i0.wp.com/aggronaut.com/wp-content/uploads/2011/04/bgr_g73jw.png',\n",
              " 'http://www.bltt.org/assets/images/jvc_mininote.jpg',\n",
              " 'https://live.staticflickr.com/4591/24117579087_f799dc89e4_n.jpg',\n",
              " 'https://gclibrary.commons.gc.cuny.edu/files/2016/10/assistive_laptops.jpg',\n",
              " 'http://3.bp.blogspot.com/_NpINLHeo8rM/R-peFAl6prI/AAAAAAAARq8/zTd7QBEdAEs/s400/2.JPG',\n",
              " 'https://as2.ftcdn.net/jpg/02/86/69/77/220_F_286697752_EzhVKVpbjsgKqQXpHHwqxby75BigumBz.jpg',\n",
              " 'https://photos1.blogger.com/blogger/7506/607/1600/olpc.jpg',\n",
              " 'https://live.staticflickr.com/3257/3141437972_48511baccd_n.jpg',\n",
              " 'https://cdn.pixabay.com/photo/2015/01/08/18/24/startup-593316_640.jpg',\n",
              " 'http://www.publicdomainpictures.net/pictures/10000/t2/1-1213888522NCLT.jpg',\n",
              " 'https://3.bp.blogspot.com/_NpINLHeo8rM/R-pdzAl6pqI/AAAAAAAARq0/pgBnEHuwEME/s400/11.jpg',\n",
              " 'https://p0.pikist.com/photos/11/780/laptop-tablet-desk-top-digital-laptop-screen-mock-thumbnail.jpg',\n",
              " 'https://live.staticflickr.com/3102/2743737316_2f2c9f3bbf.jpg',\n",
              " 'http://3.bp.blogspot.com/_NpINLHeo8rM/R-peGAl6puI/AAAAAAAARrU/VnKrd_2xVgM/s400/5.jpg',\n",
              " 'https://live.staticflickr.com/7351/9118900836_e3b3c05734_n.jpg',\n",
              " 'http://upload.wikimedia.org/wikipedia/commons/thumb/f/fb/Sony_VAIO_P.jpg/250px-Sony_VAIO_P.jpg',\n",
              " 'https://live.staticflickr.com/155/334126869_4af23175f6.jpg',\n",
              " 'https://as1.ftcdn.net/jpg/01/85/51/92/220_F_185519262_KF0prPU9rMFvu48THS0wF2qi8F12tK34.jpg',\n",
              " 'http://2.bp.blogspot.com/_NpINLHeo8rM/R-pdywl6ppI/AAAAAAAARqs/mcCezu9wc8c/s400/10.jpg',\n",
              " 'http://4.bp.blogspot.com/_NpINLHeo8rM/R-peGQl6pvI/AAAAAAAARrc/rciT8Em3BRU/s400/6.jpg',\n",
              " 'https://live.staticflickr.com/2665/3978222806_8d437cd262_n.jpg',\n",
              " 'https://i0.hippopx.com/photos/907/584/18/macbook-laptop-computer-technology-thumb.jpg',\n",
              " 'https://live.staticflickr.com/26/56216585_853e6b9f84_n.jpg',\n",
              " 'https://live.staticflickr.com/1569/24217008462_b280cafb5d_n.jpg',\n",
              " 'https://live.staticflickr.com/4055/4711564626_d830bab823_n.jpg',\n",
              " 'https://live.staticflickr.com/573/23390991569_b4d8c1b03d_n.jpg',\n",
              " 'https://live.staticflickr.com/5171/5536888447_37fff7c18e_n.jpg',\n",
              " 'http://2.bp.blogspot.com/_NpINLHeo8rM/R-pdxwl6pmI/AAAAAAAARqU/GrT9UsxGLU0/s400/7.jpg',\n",
              " 'https://cdn.pixabay.com/photo/2017/10/30/19/38/laptop-2903310_960_720.png',\n",
              " 'https://i0.wp.com/aggronaut.com/wp-content/uploads/2011/04/gijoe11_thumb.jpg?resize=196,214',\n",
              " 'https://live.staticflickr.com/65535/50127168191_7c2911449d_n.jpg',\n",
              " 'https://c1.staticflickr.com/4/3241/2366582304_66a9aa667f_n.jpg',\n",
              " 'https://live.staticflickr.com/3199/2943167751_d6daf4d8fe_n.jpg',\n",
              " 'https://mashe.hawksey.info/wp-content/uploads/2008/12/ibm-5100-portable-computer.jpg',\n",
              " 'http://edgeeffects.net/wp-content/uploads/2014/10/Nost_Quantum-Computing_figure1.jpg',\n",
              " 'https://live.staticflickr.com/4078/4751551743_72039d4185_n.jpg',\n",
              " 'https://images.pexels.com/photos/81850/apple-macbook-computer-laptop-81850.jpeg?h=350&auto=compress&cs=tinysrgb',\n",
              " 'https://photos1.blogger.com/blogger/2606/2479/1600/laptop.0.jpg',\n",
              " 'https://live.staticflickr.com/3546/3387716970_85f7823c38_m.jpg',\n",
              " 'https://live.staticflickr.com/1444/26141570053_b7c2939885_n.jpg',\n",
              " 'https://podfeet.com/NosillaCast/NC_2007_08_19/vacation_laptops.jpg',\n",
              " 'https://live.staticflickr.com/65535/50141891521_d9675ff09e_n.jpg',\n",
              " 'https://live.staticflickr.com/3155/5871034897_86b47e9ee2.jpg',\n",
              " 'https://live.staticflickr.com/8577/29837841253_25583a3db8_n.jpg',\n",
              " 'https://upload.wikimedia.org/wikipedia/commons/2/22/3-Tasten-Maus_Microsoft.jpg',\n",
              " 'https://i0.wp.com/aggronaut.com/wp-content/uploads/2011/04/20110411_064816_thumb.jpg?resize=456,259',\n",
              " 'https://c.pxhere.com/photos/75/1d/macbook_mac_apple_ipad_iphone_laptop_office_computer-768352.jpg!d',\n",
              " 'https://1.bp.blogspot.com/_NpINLHeo8rM/R-peNgl6pwI/AAAAAAAARrk/-nr83GUGsOE/s400/1.jpg',\n",
              " 'http://daviding.com/blog/wp-content/uploads/2008/09/di_20080310_haidian_laptops_in_plastic.jpg',\n",
              " 'https://3.bp.blogspot.com/_NpINLHeo8rM/R-peGAl6ptI/AAAAAAAARrM/Uy6alppi7rQ/s400/4.jpg',\n",
              " 'https://4.bp.blogspot.com/_NpINLHeo8rM/R-pdyQl6pnI/AAAAAAAARqc/zWwwZ5JhoQc/s400/8.jpg',\n",
              " 'https://foto.wuestenigel.com/wp-content/uploads/thumb/apple-iphone-auf-macbook-laptop-auf-holztisch-mit-reflektion.jpeg',\n",
              " 'https://2.bp.blogspot.com/_NpINLHeo8rM/R-peFwl6psI/AAAAAAAARrE/cSXFqim8g_s/s400/3.jpg',\n",
              " 'https://live.staticflickr.com/453/19688178002_7eba58238b_n.jpg',\n",
              " 'http://farm6.static.flickr.com/5317/5798120560_389a82cd43.jpg',\n",
              " 'http://atodorov.org/images/olpc_xo.jpg',\n",
              " 'https://www.geeksvgs.com/files/b/88/ericlemerdy-laptop.png',\n",
              " 'https://c1.staticflickr.com/3/2260/2002815446_f78d2b5b84.jpg',\n",
              " 'https://live.staticflickr.com/7340/16417325661_d146164a36_n.jpg',\n",
              " 'https://pixnio.com/free-images/2017/04/30/2017-04-30-09-44-06-900x600.jpg',\n",
              " 'https://live.staticflickr.com/3104/3109505071_849b9798c7_n.jpg',\n",
              " 'https://live.staticflickr.com/3430/3405811164_d49a982c6e_n.jpg',\n",
              " 'https://lh3.googleusercontent.com/proxy/1VNCtj8ihugX8oSH5r9FmhLYsKYkZtP5SkAZDbTn_kbeaQGcou8n8ZTB7ilNForlefelF8DB2GxpDnp0xau1gn4cb9EGdnYZqsGNjg1pNZQreBfYPpPSPE3z--WiZROMzu57L-RJFj35J8XxYw0=s0-d',\n",
              " 'http://2.bp.blogspot.com/_NpINLHeo8rM/SJxELzagf3I/AAAAAAAAZSE/Q7tRiP7wEB0/s400/1.jpg',\n",
              " 'https://cdn.pixabay.com/photo/2014/12/22/19/59/macbook-577758_960_720.jpg',\n",
              " 'https://3.bp.blogspot.com/-5YtedCx3A08/VR1l2oiDlnI/AAAAAAABFkM/44M78jACx3g/s00/noche-de-luna-llena-bajo-las-estrellas.jpg',\n",
              " 'http://www.publicdomainpictures.net/pictures/220000/t2/laptop-detail-1493913868Pwj.jpg',\n",
              " 'https://live.staticflickr.com/2393/2334582836_8f2b01bc77_n.jpg',\n",
              " 'https://live.staticflickr.com/115/308750060_8a6d12a09b_n.jpg',\n",
              " 'http://gadgetsin.com/uploads/2019/04/razer_chroma_rgb_gaming_laptop_stand_2.jpg',\n",
              " 'https://farm9.static.flickr.com/8536/8709720022_356c92c493.jpg',\n",
              " 'http://www.nextinnonprofits.com/wp-content/uploads/2013/06/very_old_computer.jpg',\n",
              " 'https://live.staticflickr.com/172/374113131_5f820f6c10.jpg',\n",
              " 'https://as2.ftcdn.net/jpg/01/94/56/95/220_F_194569571_j8LNncUGjsBgLfSXSAhHoOfIh3qhjxOJ.jpg',\n",
              " 'https://cdn.pixabay.com/photo/2015/09/05/23/25/business-926221_960_720.jpg',\n",
              " 'https://live.staticflickr.com/3091/3158987801_cdd788e6db_n.jpg',\n",
              " 'https://live.staticflickr.com/21/30583490_7b7fceeda7_n.jpg',\n",
              " 'https://live.staticflickr.com/3275/2314118129_97cd12c80d_n.jpg',\n",
              " 'https://live.staticflickr.com/3224/3131712096_4ee75f1a33_n.jpg',\n",
              " 'https://live.staticflickr.com/2380/2146519801_edfbd72374_n.jpg',\n",
              " 'https://live.staticflickr.com/5083/5334425086_6308db7117_n.jpg',\n",
              " 'https://live.staticflickr.com/6146/5916575443_b063494d86.jpg',\n",
              " 'https://live.staticflickr.com/65535/50200475567_deb2a725ec_n.jpg',\n",
              " 'https://cdn.pixabay.com/photo/2013/07/12/19/05/notebook-154358_960_720.png',\n",
              " 'https://cdn.pixabay.com/photo/2017/05/13/20/46/office-2310610_960_720.png',\n",
              " 'https://live.staticflickr.com/905/27835200038_542b66e645_n.jpg',\n",
              " 'https://live.staticflickr.com/664/21713977623_7d69d4e6a8_n.jpg',\n",
              " 'https://i1.wp.com/aggronaut.com/wp-content/uploads/2011/04/crack_ho_barbie_doll_thumb.jpg?resize=196,219',\n",
              " 'https://live.staticflickr.com/782/31889846882_b4b73afc02_n.jpg',\n",
              " 'https://p0.piqsels.com/preview/817/1016/1004/administration-adults-black-and-white-classroom-thumbnail.jpg',\n",
              " 'https://c1.wallpaperflare.com/preview/345/798/321/business-computers-contemporary-cup.jpg',\n",
              " 'https://open.lib.umn.edu/app/uploads/sites/7/2015/03/50758ea4dae5be6068a2718ebadf012f.jpg',\n",
              " 'https://live.staticflickr.com/65535/49721674061_848d2bdb9e_n.jpg',\n",
              " 'http://mediafactory.org.au/jake-farfoud/files/2014/01/20582catnotamused-1v19wap.jpg',\n",
              " 'https://p0.piqsels.com/preview/638/45/301/school-coding-software-development-education-thumbnail.jpg',\n",
              " 'https://libraries.uta.edu/sites/default/files/styles/blog_teaser_700x500_/public/2019-09/dataCAVE.png?itok=_OzH7gD_',\n",
              " 'http://techresources.pbworks.com/f/K+Laptops2.JPG',\n",
              " 'https://i.stack.imgur.com/54IR8.jpg',\n",
              " 'https://live.staticflickr.com/2004/1907170659_231e884890_n.jpg',\n",
              " 'https://live.staticflickr.com/2083/2002805264_c68824f56d_n.jpg',\n",
              " 'https://live.staticflickr.com/3277/2572911347_58b36bb2c3_n.jpg',\n",
              " 'https://c1.wallpaperflare.com/preview/427/745/192/notebook-natural-laptop-macbook-thumbnail.jpg',\n",
              " 'https://live.staticflickr.com/3563/3366268239_1cb121d3e7_n.jpg',\n",
              " 'https://live.staticflickr.com/46/145122235_8789107298_n.jpg',\n",
              " 'https://live.staticflickr.com/29/43671770_6d52fcd1f6_n.jpg',\n",
              " 'https://upload.wikimedia.org/wikipedia/commons/0/01/Altair_8800_Computer.jpg',\n",
              " 'https://live.staticflickr.com/45/178490153_115e05caf8_n.jpg',\n",
              " 'https://live.staticflickr.com/7819/33207130558_945b5bc125_n.jpg',\n",
              " 'https://live.staticflickr.com/5209/5226175158_d3d9ffec56_n.jpg',\n",
              " 'https://gcdi.commons.gc.cuny.edu/files/2018/08/Square15.jpg',\n",
              " 'http://farm8.staticflickr.com/7137/7573279692_4122d6f919_m.jpg',\n",
              " 'https://live.staticflickr.com/7179/6822986090_070a1bd368_n.jpg',\n",
              " 'https://live.staticflickr.com/65535/49672409438_bb74f6275e_n.jpg',\n",
              " 'https://foto.wuestenigel.com/wp-content/uploads/thumb/schlauchstethoskop-auf-einem-modernen-laptop.jpeg',\n",
              " 'https://p1.pxfuel.com/preview/439/560/922/neo-urban-laptop-hardware-computer-royalty-free-thumbnail.jpg',\n",
              " 'https://cdn.pixabay.com/photo/2017/07/09/06/25/laptop-2486325_960_720.png',\n",
              " 'https://computers.popcorn.cx/apple/powermac/8100/pm8100-03.jpg',\n",
              " 'https://c.pxhere.com/photos/0f/61/k_ve_office_work_iphone_communication_mobile_smartphone_table-906379.jpg!d',\n",
              " 'https://live.staticflickr.com/276/19853958940_db5aed51ba_n.jpg',\n",
              " 'https://live.staticflickr.com/98/377226400_52b8f7fbc3_n.jpg',\n",
              " 'http://opiobjektid.tptlive.ee/Telekom/computer-servers.jpg',\n",
              " 'http://c1.staticflickr.com/1/99/255241547_80eb1c2ea0_n.jpg',\n",
              " 'https://live.staticflickr.com/2620/5755754477_ce6bb89921_n.jpg',\n",
              " 'http://cdn.dailyclipart.net/wp-content/uploads/medium/clipart0252.jpg',\n",
              " 'https://www.geeksvgs.com/files/4/63/Personal-Computer.png',\n",
              " 'https://live.staticflickr.com/2872/33117169184_cdf592ed59.jpg',\n",
              " 'http://trycold.com/img/laptop-foam.jpg',\n",
              " 'https://c.pxhere.com/photos/3e/b8/computer_laptop_technology_work-1267585.jpg!s',\n",
              " 'https://live.staticflickr.com/5017/5476342500_6aaa4fa6d9_n.jpg',\n",
              " 'https://live.staticflickr.com/209/457911388_cc1949330f_n.jpg',\n",
              " 'https://live.staticflickr.com/3580/3795219420_06bde1fcf2_n.jpg',\n",
              " 'https://c.pxhere.com/photos/69/00/business_office_building_desks_chairs_working_laptop_computer-892409.jpg!s',\n",
              " 'https://live.staticflickr.com/7060/6789173680_14e620b7f9_n.jpg',\n",
              " 'https://live.staticflickr.com/7091/7158027068_c0c86481c1_n.jpg',\n",
              " 'https://live.staticflickr.com/1723/27496060847_6713f4f47d_n.jpg',\n",
              " 'https://live.staticflickr.com/3155/2715599454_ca105ab726_n.jpg',\n",
              " 'https://live.staticflickr.com/4710/40645906341_3c01bfb480_n.jpg',\n",
              " 'https://live.staticflickr.com/8097/8518548599_0686e50f74_n.jpg',\n",
              " 'https://live.staticflickr.com/19/160424984_42b1f3c40d_n.jpg',\n",
              " 'https://cdn.pixabay.com/photo/2017/01/04/13/09/computer-1951964_960_720.jpg',\n",
              " 'http://www.dvq.com/oldcomp/photos2/icon/tek4054a_color.JPG',\n",
              " 'https://cdn.pixabay.com/photo/2013/07/13/11/34/owl-158414_960_720.png',\n",
              " 'http://www.coverfire.com/wp-content/uploads/2007/09/laptop-keyboard.png',\n",
              " 'https://live.staticflickr.com/4109/5001377999_b644857e7e.jpg',\n",
              " 'https://live.staticflickr.com/6028/5918067297_afe3d35cdf_n.jpg',\n",
              " 'https://s3.amazonaws.com/freestock-prod/450/freestock_1238272246.jpg',\n",
              " 'http://4.bp.blogspot.com/-bozHzBnljJQ/UeVR3t374CI/AAAAAAAADvI/1rMZzAiidxg/s320/2512806068_b33f38afae.jpg',\n",
              " 'https://live.staticflickr.com/201/461723797_8ce7185427_n.jpg',\n",
              " 'https://4.bp.blogspot.com/-EZ8v9HWM2DY/UC0Gyiibk6I/AAAAAAAAT_c/vM2Sa1Avadw/s1600/Real-Madrid-2012-2013.jpg',\n",
              " 'https://1.bp.blogspot.com/-oqUrDN3Oj4U/Tko9RtSxyeI/AAAAAAAAAXo/bpoIP4rmg4c/s1600/Image-Mathematics-Teacher.png',\n",
              " 'https://live.staticflickr.com/65535/48930237627_37210b6be4_n.jpg',\n",
              " 'https://p1.pxfuel.com/preview/143/187/769/office-advice-report-work-royalty-free-thumbnail.jpg',\n",
              " 'https://live.staticflickr.com/3096/2577444443_b1e592f51d_n.jpg',\n",
              " 'https://live.staticflickr.com/4123/4745566352_a394e381dc_n.jpg',\n",
              " 'http://c1.staticflickr.com/3/2195/2002805012_aa82510f73_m.jpg',\n",
              " 'https://p0.piqsels.com/preview/932/804/974/brainstorming-collaborate-collaboration-colleagues-thumbnail.jpg',\n",
              " 'https://www.techgirl.nl/wp-content/uploads/2015/12/Acer_Aspire-360x240.jpg',\n",
              " 'https://perierga.gr/wp-content/uploads/2011/01/computer-300x232.jpg',\n",
              " 'https://4.bp.blogspot.com/_zcL3JI2fcf4/R26OvQlykhI/AAAAAAAAAhM/w7x1Bp33RgI/s400/DSC00594.JPG',\n",
              " 'https://live.staticflickr.com/65535/49218024402_81ba9b5ef6_m.jpg',\n",
              " 'https://live.staticflickr.com/2822/10797219104_118edb3781_n.jpg',\n",
              " 'https://live.staticflickr.com/3032/2608478714_8f0ba53f05_n.jpg',\n",
              " 'https://live.staticflickr.com/2281/2482534424_08b7afdd05.jpg',\n",
              " 'https://p0.pikist.com/photos/227/478/startup-start-up-notebooks-creative-computer-company-laptops-display-silicon-valley-thumbnail.jpg',\n",
              " 'https://jpralves.net/img/2017/08/CT121_SmartComputers.jpg',\n",
              " 'http://upload.wikimedia.org/wikipedia/commons/thumb/5/5f/Tablet_HP_TC-1100.jpg/220px-Tablet_HP_TC-1100.jpg',\n",
              " 'https://live.staticflickr.com/65535/50011304646_ec9293141f_n.jpg',\n",
              " 'https://live.staticflickr.com/2455/3659247584_141a9901e4_n.jpg',\n",
              " 'https://live.staticflickr.com/2653/3965550368_38a366299f_n.jpg',\n",
              " 'https://live.staticflickr.com/122/271801612_ebe6f2fc89_n.jpg',\n",
              " 'https://mronline.org/wp-content/uploads/2021/08/Anonymous-computer-350x184.jpg',\n",
              " 'https://live.staticflickr.com/2594/3732095533_ed85448c1d_n.jpg',\n",
              " 'https://live.staticflickr.com/5709/31039840682_b069c9a9a6_n.jpg',\n",
              " 'https://live.staticflickr.com/3313/5840006757_bd93b7c2fe_n.jpg',\n",
              " 'https://p0.piqsels.com/preview/880/390/509/adult-business-people-businesswomen-cheerful-thumbnail.jpg',\n",
              " 'https://c4.wallpaperflare.com/wallpaper/737/93/233/computer-hi-tech-technology-wallpaper-preview.jpg',\n",
              " 'https://live.staticflickr.com/2579/3784046398_951451a5af_n.jpg',\n",
              " 'https://www.lions-wing.net/stem/computers/desktop-case.jpg',\n",
              " 'http://c1.staticflickr.com/5/4071/4665389330_d09f3d6b75_n.jpg',\n",
              " 'https://www.publicdomainpictures.net/pictures/20000/velka/computer-memory-chips.jpg',\n",
              " 'https://www.nasa.gov/sites/default/files/styles/side_image/public/thumbnails/image/26646856911_ca242812ee_o_1.jpg?itok=NQu4uW0H',\n",
              " 'https://live.staticflickr.com/2294/2264355654_be11a02580_n.jpg',\n",
              " 'https://live.staticflickr.com/2077/2002010691_3c9f2fd74f_n.jpg',\n",
              " 'https://live.staticflickr.com/5787/30742991205_12831792cd_n.jpg',\n",
              " 'https://live.staticflickr.com/63/158653599_c4675e8616_n.jpg',\n",
              " 'https://live.staticflickr.com/7677/17752993459_0e134f01f6_n.jpg',\n",
              " 'https://live.staticflickr.com/7742/17652642364_b0208cbbef.jpg',\n",
              " 'http://descargas.pntic.mec.es/cedec/redessocialesfamilia/contenidos/m2/45972711_a5a1b81641_o.png',\n",
              " 'https://live.staticflickr.com/7164/6703243817_0bae9e4074_n.jpg',\n",
              " 'https://blog.hboeck.de/uploads/cedric-wall.serendipityThumb.jpg',\n",
              " 'https://c.pxhere.com/photos/b7/bd/coffee_desk_workplace_business_table_office_cup_computer-1073754.jpg!s',\n",
              " 'https://www.boell.de/sites/default/files/styles/3d2_small/public/2020-07/01_c-Carolyn Drake - Magnum Photos - Agentur Focus_0.jpg?h=c63721b7&itok=JGR7KuHH',\n",
              " 'https://webapp.library.uvic.ca/jdurno/altairs-350.jpg',\n",
              " 'https://cdn.pixabay.com/photo/2017/09/10/22/45/laptop-2737284_960_720.png']"
            ]
          },
          "metadata": {},
          "execution_count": 21
        }
      ]
    }
  ],
  "metadata": {
    "language_info": {
      "name": "python"
    },
    "colab": {
      "provenance": []
    },
    "kernelspec": {
      "name": "python3",
      "display_name": "Python 3"
    }
  },
  "nbformat": 4,
  "nbformat_minor": 0
}